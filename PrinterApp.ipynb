{
 "cells": [
  {
   "cell_type": "code",
   "execution_count": 14,
   "metadata": {},
   "outputs": [
    {
     "name": "stdout",
     "output_type": "stream",
     "text": [
      "PrinterApp\n",
      "This app is made by: creator\n"
     ]
    }
   ],
   "source": [
    "print(\"PrinterApp\")\n",
    "print(\"This app is made by: \" + name)"
   ]
  },
  {
   "cell_type": "code",
   "execution_count": 64,
   "metadata": {},
   "outputs": [],
   "source": [
    "name = \"creator\"\n",
    "number1 = 5\n",
    "number2 = 2\n",
    "multiplication = number1*number2\n",
    "addition = number1+number2\n",
    "substraction = number1-number2\n",
    "division = number1/number2\n",
    "division = float(division)"
   ]
  },
  {
   "cell_type": "code",
   "execution_count": 56,
   "metadata": {},
   "outputs": [
    {
     "name": "stdout",
     "output_type": "stream",
     "text": [
      "The value of number1 is 5\n"
     ]
    }
   ],
   "source": [
    "#print(number1)\n",
    "print(f\"The value of number1 is {number1}\")"
   ]
  },
  {
   "cell_type": "code",
   "execution_count": 55,
   "metadata": {},
   "outputs": [
    {
     "name": "stdout",
     "output_type": "stream",
     "text": [
      "The value of number2 is 2\n"
     ]
    }
   ],
   "source": [
    "#print(number2)\n",
    "print(f\"The value of number2 is {number2}\")"
   ]
  },
  {
   "cell_type": "code",
   "execution_count": 54,
   "metadata": {},
   "outputs": [
    {
     "name": "stdout",
     "output_type": "stream",
     "text": [
      "10\n",
      "5*2 = 10\n"
     ]
    }
   ],
   "source": [
    "print(f\"{multiplication}\")\n",
    "print(f\"{number1}*{number2} = {multiplication}\")"
   ]
  },
  {
   "cell_type": "code",
   "execution_count": 58,
   "metadata": {},
   "outputs": [
    {
     "name": "stdout",
     "output_type": "stream",
     "text": [
      "7\n",
      "5+2 = 7\n"
     ]
    }
   ],
   "source": [
    "print(f\"{addition}\")\n",
    "print(f\"{number1}+{number2} = {addition}\")"
   ]
  },
  {
   "cell_type": "code",
   "execution_count": 59,
   "metadata": {},
   "outputs": [
    {
     "name": "stdout",
     "output_type": "stream",
     "text": [
      "3\n",
      "5-2 = 3\n"
     ]
    }
   ],
   "source": [
    "print(f\"{substraction}\")\n",
    "print(f\"{number1}-{number2} = {substraction}\")"
   ]
  },
  {
   "cell_type": "code",
   "execution_count": 62,
   "metadata": {},
   "outputs": [
    {
     "name": "stdout",
     "output_type": "stream",
     "text": [
      "2.5\n",
      "5/2 = 2.5\n"
     ]
    }
   ],
   "source": [
    "print(f\"{division}\")\n",
    "print(f\"{number1}/{number2} = {division}\")"
   ]
  }
 ],
 "metadata": {
  "kernelspec": {
   "display_name": "Python 3",
   "language": "python",
   "name": "python3"
  },
  "language_info": {
   "codemirror_mode": {
    "name": "ipython",
    "version": 3
   },
   "file_extension": ".py",
   "mimetype": "text/x-python",
   "name": "python",
   "nbconvert_exporter": "python",
   "pygments_lexer": "ipython3",
   "version": "3.12.0"
  }
 },
 "nbformat": 4,
 "nbformat_minor": 2
}
