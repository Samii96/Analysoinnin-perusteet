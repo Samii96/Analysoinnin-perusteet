{
 "cells": [
  {
   "cell_type": "code",
   "execution_count": 2,
   "metadata": {},
   "outputs": [
    {
     "name": "stdout",
     "output_type": "stream",
     "text": [
      "Congratulations! Your guess is correct.\n"
     ]
    }
   ],
   "source": [
    "# Guessing Game\n",
    "\n",
    "# Oikea vastaus:\n",
    "correct_name = \"John\"\n",
    "\n",
    "# Kysy käyttäjältä nimi:\n",
    "user_guess = input(\"Guess the name: \")\n",
    "\n",
    "# Tarkista, onko vastaus oikein:\n",
    "if user_guess == correct_name:\n",
    "    print(\"Congratulations! Your guess is correct.\")\n",
    "else:\n",
    "    print(\"Incorrect guess. Try again.\")"
   ]
  },
  {
   "cell_type": "code",
   "execution_count": 4,
   "metadata": {},
   "outputs": [
    {
     "name": "stdout",
     "output_type": "stream",
     "text": [
      "Incorrect guess. Try again.\n",
      "Incorrect guess. Try again.\n",
      "Congratulations! Your guess is correct.\n"
     ]
    }
   ],
   "source": [
    "# Guessing Game with Loop\n",
    "\n",
    "# Oikea vastaus\n",
    "correct_name = \"John\"\n",
    "\n",
    "correct_guess = False\n",
    "\n",
    "# Kysy niin kauan kunnes arvaus on oikein:\n",
    "while not correct_guess:\n",
    "    # Kysy käyttäjältä nimi:\n",
    "    user_guess = input(\"Guess the name: \")\n",
    "\n",
    "    # Tarkista, onko vastaus oikein:\n",
    "    if user_guess == correct_name:\n",
    "        print(\"Congratulations! Your guess is correct.\")\n",
    "        correct_guess = True\n",
    "    else:\n",
    "        print(\"Incorrect guess. Try again.\")"
   ]
  }
 ],
 "metadata": {
  "kernelspec": {
   "display_name": "Python 3",
   "language": "python",
   "name": "python3"
  },
  "language_info": {
   "codemirror_mode": {
    "name": "ipython",
    "version": 3
   },
   "file_extension": ".py",
   "mimetype": "text/x-python",
   "name": "python",
   "nbconvert_exporter": "python",
   "pygments_lexer": "ipython3",
   "version": "3.12.0"
  }
 },
 "nbformat": 4,
 "nbformat_minor": 2
}
