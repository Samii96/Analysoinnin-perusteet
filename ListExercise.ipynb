{
 "cells": [
  {
   "cell_type": "code",
   "execution_count": 5,
   "metadata": {},
   "outputs": [
    {
     "name": "stdout",
     "output_type": "stream",
     "text": [
      "table\n",
      "chair\n",
      "sofa\n",
      "shelf\n"
     ]
    }
   ],
   "source": [
    "#Exercise 1. \n",
    "#1.)\n",
    "furniture = ['table','chair','sofa','shelf']\n",
    "for furniture in furniture:\n",
    "    \n",
    "#2.)\n",
    "    print(furniture)"
   ]
  },
  {
   "cell_type": "code",
   "execution_count": 6,
   "metadata": {},
   "outputs": [
    {
     "name": "stdout",
     "output_type": "stream",
     "text": [
      "table\n",
      "chair\n"
     ]
    }
   ],
   "source": [
    "#3.)\n",
    "furniture = ['table','chair','sofa','shelf']\n",
    "for item in furniture[:2]:\n",
    "        print(item)"
   ]
  },
  {
   "cell_type": "code",
   "execution_count": 7,
   "metadata": {},
   "outputs": [
    {
     "name": "stdout",
     "output_type": "stream",
     "text": [
      "sofa found\n"
     ]
    }
   ],
   "source": [
    "#4.)\n",
    "furniture = ['table','chair','sofa','shelf']\n",
    "for item in furniture:\n",
    "        if item == \"sofa\":\n",
    "                print (\"sofa found\")"
   ]
  },
  {
   "cell_type": "code",
   "execution_count": 6,
   "metadata": {},
   "outputs": [
    {
     "name": "stdout",
     "output_type": "stream",
     "text": [
      "5\n",
      "6\n",
      "3\n",
      "3\n",
      "5\n"
     ]
    }
   ],
   "source": [
    "#Exercise 2 \n",
    "#1.) 2.) 3.)\n",
    "from random import randint\n",
    "thrownDiceNumbers = [randint(0, 6) for _ in range(5)]\n",
    "\n",
    "for thrownDiceNumbers in thrownDiceNumbers:\n",
    "    print(thrownDiceNumbers)"
   ]
  },
  {
   "cell_type": "code",
   "execution_count": 7,
   "metadata": {},
   "outputs": [
    {
     "name": "stdout",
     "output_type": "stream",
     "text": [
      "22\n"
     ]
    }
   ],
   "source": [
    "#4.)\n",
    "thrownDiceNumbers = [5, 6, 3, 3, 5]\n",
    "total_sum = sum(thrownDiceNumbers)\n",
    "print(total_sum)"
   ]
  },
  {
   "cell_type": "code",
   "execution_count": 8,
   "metadata": {},
   "outputs": [
    {
     "name": "stdout",
     "output_type": "stream",
     "text": [
      "6\n"
     ]
    }
   ],
   "source": [
    "#5.)\n",
    "thrownDiceNumbers = [5, 6, 3, 3, 5]\n",
    "highest_value = max(thrownDiceNumbers)\n",
    "print(highest_value)"
   ]
  }
 ],
 "metadata": {
  "kernelspec": {
   "display_name": "Python 3",
   "language": "python",
   "name": "python3"
  },
  "language_info": {
   "codemirror_mode": {
    "name": "ipython",
    "version": 3
   },
   "file_extension": ".py",
   "mimetype": "text/x-python",
   "name": "python",
   "nbconvert_exporter": "python",
   "pygments_lexer": "ipython3",
   "version": "3.12.0"
  }
 },
 "nbformat": 4,
 "nbformat_minor": 2
}
