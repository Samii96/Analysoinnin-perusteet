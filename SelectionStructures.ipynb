{
 "cells": [
  {
   "cell_type": "code",
   "execution_count": 38,
   "metadata": {},
   "outputs": [],
   "source": [
    "number1 = 1\n",
    "number2 = 0"
   ]
  },
  {
   "cell_type": "code",
   "execution_count": 39,
   "metadata": {},
   "outputs": [],
   "source": [
    "#1.a)\n",
    "if number1 == number2:\n",
    "    print(\"number1 and number2 are equal.\")"
   ]
  },
  {
   "cell_type": "code",
   "execution_count": 31,
   "metadata": {},
   "outputs": [],
   "source": [
    "#1.b)\n",
    "if number1 > number2:\n",
    "    print(\"number1 is greater than number2.\")"
   ]
  },
  {
   "cell_type": "code",
   "execution_count": 32,
   "metadata": {},
   "outputs": [],
   "source": [
    "#1.c)\n",
    "if number1 >= number2:\n",
    "    print(\"number1 is greater or equal to number2.\")"
   ]
  },
  {
   "cell_type": "code",
   "execution_count": 33,
   "metadata": {},
   "outputs": [
    {
     "name": "stdout",
     "output_type": "stream",
     "text": [
      "number1 is NOT equal to number2.\n"
     ]
    }
   ],
   "source": [
    "#1.d)\n",
    "if number1 != number2:\n",
    "    print(\"number1 is NOT equal to number2.\")"
   ]
  },
  {
   "cell_type": "code",
   "execution_count": 41,
   "metadata": {},
   "outputs": [],
   "source": [
    "number1 = 1\n",
    "number2 = 2\n",
    "number3 = 3"
   ]
  },
  {
   "cell_type": "code",
   "execution_count": 58,
   "metadata": {},
   "outputs": [],
   "source": [
    "#2.a)\n",
    "if number1 == number2 == number3:\n",
    "    print(\"number1, number2 and number3 are equal.\")"
   ]
  },
  {
   "cell_type": "code",
   "execution_count": 36,
   "metadata": {},
   "outputs": [],
   "source": [
    "#2.b)\n",
    "if number1 == number2 or number2 ==number3:\n",
    "    print(\"number1 and number2 are equal OR number2 and number3 are equal.\")"
   ]
  },
  {
   "cell_type": "code",
   "execution_count": 37,
   "metadata": {},
   "outputs": [],
   "source": [
    "#2.c)\n",
    "if number1 > number2 and number1 > number3:\n",
    "    print(\"number1 is greater than number2 AND number1 is greater than number3.\")"
   ]
  },
  {
   "cell_type": "code",
   "execution_count": 43,
   "metadata": {},
   "outputs": [],
   "source": [
    "#2.d)\n",
    "if number1 > number2:\n",
    "    print(\"number1 is greater than number2.\")\n",
    "elif number2 > number3:\n",
    "    print(\"number2 is greater than number3.\")"
   ]
  },
  {
   "cell_type": "code",
   "execution_count": 57,
   "metadata": {},
   "outputs": [],
   "source": [
    "#2.e)\n",
    "if number1 == number2:\n",
    "    print(\"number1 and number2 are equal.\")\n",
    "elif number1 == number3:\n",
    "    print(\"number1 and number3 are equal.\")"
   ]
  },
  {
   "cell_type": "code",
   "execution_count": 50,
   "metadata": {},
   "outputs": [],
   "source": [
    "name1 = \"Jaakko\"\n",
    "name2 = \"Paavo\"\n",
    "name3 = \"Martti\""
   ]
  },
  {
   "cell_type": "code",
   "execution_count": 55,
   "metadata": {},
   "outputs": [],
   "source": [
    "#3.a)\n",
    "if name1 == name2:\n",
    "    print(\"name1 and name2 are equal.\")"
   ]
  },
  {
   "cell_type": "code",
   "execution_count": 53,
   "metadata": {},
   "outputs": [
    {
     "name": "stdout",
     "output_type": "stream",
     "text": [
      "name1 and name2 are NOT equal.\n"
     ]
    }
   ],
   "source": [
    "#3.b)\n",
    "if name1 != name2:\n",
    "    print(\"name1 and name2 are NOT equal.\")"
   ]
  },
  {
   "cell_type": "code",
   "execution_count": 54,
   "metadata": {},
   "outputs": [],
   "source": [
    "#3.c)\n",
    "if name1 == name2:\n",
    "    print(\"name1 and name2 are equal.\")\n",
    "elif name1 == name3:\n",
    "    print(\"name1 and name3 are equal.\")"
   ]
  }
 ],
 "metadata": {
  "kernelspec": {
   "display_name": "Python 3",
   "language": "python",
   "name": "python3"
  },
  "language_info": {
   "codemirror_mode": {
    "name": "ipython",
    "version": 3
   },
   "file_extension": ".py",
   "mimetype": "text/x-python",
   "name": "python",
   "nbconvert_exporter": "python",
   "pygments_lexer": "ipython3",
   "version": "3.12.0"
  }
 },
 "nbformat": 4,
 "nbformat_minor": 2
}
